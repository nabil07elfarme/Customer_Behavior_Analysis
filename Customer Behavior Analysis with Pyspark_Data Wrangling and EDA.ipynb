{
 "cells": [
  {
   "cell_type": "code",
   "execution_count": 1,
   "id": "01ecd8f5",
   "metadata": {},
   "outputs": [],
   "source": [
    "import pyspark\n",
    "from pyspark.sql import SparkSession"
   ]
  },
  {
   "cell_type": "code",
   "execution_count": 2,
   "id": "691b2eef",
   "metadata": {},
   "outputs": [],
   "source": [
    "# Create a SparkSession\n",
    "spark = SparkSession.builder.appName(\"Market basket\").getOrCreate()"
   ]
  },
  {
   "cell_type": "markdown",
   "id": "520d5bc5",
   "metadata": {},
   "source": [
    "# Wrangling data"
   ]
  },
  {
   "cell_type": "code",
   "execution_count": 202,
   "id": "3ba4824b",
   "metadata": {},
   "outputs": [],
   "source": [
    "# Import raw data file and trim leading and trailing whitespaces\n",
    "retail_df = spark.read.csv(\"data.csv\", header=True, inferSchema=True)"
   ]
  },
  {
   "cell_type": "code",
   "execution_count": 203,
   "id": "c2a9953d",
   "metadata": {},
   "outputs": [
    {
     "name": "stdout",
     "output_type": "stream",
     "text": [
      "+---------+---------+--------------------+--------+--------------+---------+----------+--------------+\n",
      "|InvoiceNo|StockCode|         Description|Quantity|   InvoiceDate|UnitPrice|CustomerID|       Country|\n",
      "+---------+---------+--------------------+--------+--------------+---------+----------+--------------+\n",
      "|   536365|   85123A|WHITE HANGING HEA...|       6|12/1/2010 8:26|     2.55|     17850|United Kingdom|\n",
      "|   536365|    71053| WHITE METAL LANTERN|       6|12/1/2010 8:26|     3.39|     17850|United Kingdom|\n",
      "|   536365|   84406B|CREAM CUPID HEART...|       8|12/1/2010 8:26|     2.75|     17850|United Kingdom|\n",
      "|   536365|   84029G|KNITTED UNION FLA...|       6|12/1/2010 8:26|     3.39|     17850|United Kingdom|\n",
      "|   536365|   84029E|RED WOOLLY HOTTIE...|       6|12/1/2010 8:26|     3.39|     17850|United Kingdom|\n",
      "+---------+---------+--------------------+--------+--------------+---------+----------+--------------+\n",
      "only showing top 5 rows\n",
      "\n"
     ]
    }
   ],
   "source": [
    "# First glance at the data\n",
    "retail_df.show(5)"
   ]
  },
  {
   "cell_type": "code",
   "execution_count": 204,
   "id": "159f39ca",
   "metadata": {},
   "outputs": [],
   "source": [
    "# Register retail_df as a temporary view to use SQL syntax\n",
    "retail_df.createOrReplaceTempView(\"retail_view\")"
   ]
  },
  {
   "cell_type": "code",
   "execution_count": 205,
   "id": "b5c31a01",
   "metadata": {},
   "outputs": [
    {
     "name": "stdout",
     "output_type": "stream",
     "text": [
      "+-----------+---------+-------+\n",
      "|   col_name|data_type|comment|\n",
      "+-----------+---------+-------+\n",
      "|  InvoiceNo|   string|   null|\n",
      "|  StockCode|   string|   null|\n",
      "|Description|   string|   null|\n",
      "|   Quantity|      int|   null|\n",
      "|InvoiceDate|   string|   null|\n",
      "|  UnitPrice|   double|   null|\n",
      "| CustomerID|      int|   null|\n",
      "|    Country|   string|   null|\n",
      "+-----------+---------+-------+\n",
      "\n"
     ]
    }
   ],
   "source": [
    "# Columns description\n",
    "description = spark.sql(\"\"\"\n",
    "    DESCRIBE retail_view\n",
    "\"\"\")\n",
    "description.show()"
   ]
  },
  {
   "cell_type": "code",
   "execution_count": 206,
   "id": "30721398",
   "metadata": {},
   "outputs": [
    {
     "name": "stdout",
     "output_type": "stream",
     "text": [
      "+-------+------------------+------------------+--------------------+------------------+---------------+------------------+------------------+-----------+\n",
      "|summary|         InvoiceNo|         StockCode|         Description|          Quantity|    InvoiceDate|         UnitPrice|        CustomerID|    Country|\n",
      "+-------+------------------+------------------+--------------------+------------------+---------------+------------------+------------------+-----------+\n",
      "|  count|            541909|            541909|              540455|            541909|         541909|            541909|            406829|     541909|\n",
      "|   mean|  559965.752026781|27623.240210938104|             20713.0|  9.55224954743324|           null|4.6111136260897085|15287.690570239585|       null|\n",
      "| stddev|13428.417280796779|16799.737628427658|                null|218.08115785023438|           null| 96.75985306117963|1713.6003033215982|       null|\n",
      "|    min|            536365|             10002| 4 PURPLE FLOCK D...|            -80995|1/10/2011 10:04|         -11062.06|             12346|  Australia|\n",
      "|    max|           C581569|                 m|   wrongly sold sets|             80995|  9/9/2011 9:52|           38970.0|             18287|Unspecified|\n",
      "+-------+------------------+------------------+--------------------+------------------+---------------+------------------+------------------+-----------+\n",
      "\n"
     ]
    }
   ],
   "source": [
    "retail_df.describe().show()"
   ]
  },
  {
   "cell_type": "markdown",
   "id": "b204a658",
   "metadata": {},
   "source": [
    "Based on the provided table, we can draw the following conclusions:\n",
    "\n",
    "* In the Quantity column, the minimum value of -80995 suggests the presence of negative quantities, which might indicate entry mistakes. The maximum value of 80995 represents a large quantity, potentially indicating bulk orders or high-demand items.\n",
    "\n",
    "* The negative value of -11062.06, in the UnitPrice column, is unusual and might indicate errors or data entry mistakes. The maximum value of 38970.0 suggests the presence of high-priced items or possibly outliers that need further investigation.\n",
    "\n",
    "* Missing Values: The \"count\" row indicates the number of non-null values for each column. The Description and CustomerID columns have fewer non-null values (Description = 540,455 and CustomerID = 406,829) compared to the total number of records (541,909), suggesting the presence of missing or incomplete descriptions for some items. The presence of \"Unspecified\" in The \"Country\" column suggests missing or incomplete data for some invoices. \n"
   ]
  },
  {
   "cell_type": "code",
   "execution_count": 207,
   "id": "2da974d2",
   "metadata": {},
   "outputs": [
    {
     "name": "stdout",
     "output_type": "stream",
     "text": [
      "+-----+\n",
      "|Total|\n",
      "+-----+\n",
      "| 9288|\n",
      "+-----+\n",
      "\n"
     ]
    }
   ],
   "source": [
    "# CANCELLATIONS\n",
    "# If the InvoiceNo starts with the letter 'C', it indicates a cancellation. The code below calculate \n",
    "# the total number of cancellations\n",
    "cancellations = spark.sql(\"\"\"\n",
    "    SELECT COUNT(*) AS Total\n",
    "    FROM retail_view\n",
    "    WHERE InvoiceNo LIKE 'C%'\n",
    "\"\"\")\n",
    "cancellations.show()\n",
    "\n",
    "# cancellations = retail_df.filter(retail_df.InvoiceNo.startswith('C')).agg({\"*\": \"count\"}).alias(\"Total\")\n"
   ]
  },
  {
   "cell_type": "code",
   "execution_count": 208,
   "id": "413911e8",
   "metadata": {},
   "outputs": [],
   "source": [
    "# Remove cancellations from the analysis using SQL\n",
    "Store_Retail = spark.sql(\"\"\"\n",
    "    SELECT *\n",
    "    FROM retail_view\n",
    "    WHERE NOT InvoiceNo LIKE 'C%'\n",
    "\"\"\")"
   ]
  },
  {
   "cell_type": "code",
   "execution_count": 209,
   "id": "30e6b34a",
   "metadata": {},
   "outputs": [
    {
     "name": "stdout",
     "output_type": "stream",
     "text": [
      "+--------------------+---------+-----+\n",
      "|         Description|UnitPrice|count|\n",
      "+--------------------+---------+-----+\n",
      "|                null|      0.0|  862|\n",
      "|               check|      0.0|  120|\n",
      "|REGENCY CAKESTAND...|    12.75|  104|\n",
      "|REGENCY CAKESTAND...|    10.95|   77|\n",
      "|JAM MAKING SET WI...|     4.25|   70|\n",
      "|SET OF 3 CAKE TIN...|     4.95|   70|\n",
      "|ROSES REGENCY TEA...|     2.95|   49|\n",
      "|             damages|      0.0|   45|\n",
      "|RECIPE BOX PANTRY...|     2.95|   43|\n",
      "|STRAWBERRY CERAMI...|     1.25|   43|\n",
      "|             damaged|      0.0|   42|\n",
      "|                   ?|      0.0|   41|\n",
      "|GREEN REGENCY TEA...|     2.95|   40|\n",
      "|SET OF 3 REGENCY ...|     4.95|   34|\n",
      "|ALARM CLOCK BAKEL...|     3.75|   33|\n",
      "|PINK REGENCY TEAC...|     2.95|   33|\n",
      "|RED RETROSPOT CAK...|    10.95|   33|\n",
      "|SET OF TEA COFFEE...|     4.95|   33|\n",
      "|LUNCH BAG RED RET...|     1.65|   32|\n",
      "|SMALL GLASS HEART...|      2.1|   30|\n",
      "+--------------------+---------+-----+\n",
      "only showing top 20 rows\n",
      "\n"
     ]
    }
   ],
   "source": [
    "# NEGATIVE QUANTITIES\n",
    "# Filter by non-positive Quantity and group by Description and UnitPrice, then count the occurrences using SQL\n",
    "negative_quantities = spark.sql(\"\"\"\n",
    "    SELECT Description, UnitPrice, COUNT(*) AS count\n",
    "    FROM retail_view\n",
    "    WHERE Quantity <= 0\n",
    "    GROUP BY Description, UnitPrice\n",
    "\"\"\")\n",
    "\n",
    "# Show the result ordered by count \n",
    "negative_quantities.orderBy(negative_quantities[\"count\"].desc()).show()"
   ]
  },
  {
   "cell_type": "code",
   "execution_count": 210,
   "id": "e8297497",
   "metadata": {},
   "outputs": [],
   "source": [
    "# Remove rows with non-positive Quantity using SQL\n",
    "Store_Retail = spark.sql(\"\"\"\n",
    "    SELECT *\n",
    "    FROM retail_view\n",
    "    WHERE Quantity > 0\n",
    "\"\"\")\n"
   ]
  },
  {
   "cell_type": "markdown",
   "id": "e32e29ff",
   "metadata": {},
   "source": [
    "#==========================================================================================================\n",
    "\n",
    "One complexe task in this dataset is filter non-product related rows. Here you can leverage Large Language Models (LLMs) like to filter non-product descriptions in the Retail store dataset. LLMs have the capability to understand and generate natural language text, which makes them suitable for text classification tasks like identifying non-product descriptions. To filter non-product descriptions using an LLM, you can follow these general steps:\n",
    "\n",
    "Prepare the data: Extract the description column from the Retail store dataset and convert it into a format suitable for LLM input. For example, you may need to preprocess the text by removing punctuation, converting to lowercase, and tokenizing the sentences.\n",
    "\n",
    "Classification: Use the fine-tuned LLM to classify each description in the dataset as either a product or non-product. Pass the descriptions through the LLM and analyze the generated outputs or predictions to determine the class label for each description.\n",
    "\n",
    "Filter the dataset: Filter the Retail store dataset based on the classification results to separate the product and non-product descriptions.\n",
    "\n",
    "If you don't have the resources or expertise for fine-tuning an LLM, alternative methods like keyword matching or rule-based techniques might be more feasible for filtering non-product descriptions in the Retail store dataset. These methods involve searching for specific words or patterns that indicate non-product items or categories, as discussed earlier."
   ]
  },
  {
   "cell_type": "code",
   "execution_count": 211,
   "id": "51463ce5",
   "metadata": {},
   "outputs": [],
   "source": [
    "unique_descriptions = spark.sql(\"SELECT DISTINCT Description FROM retail_view\")"
   ]
  },
  {
   "cell_type": "code",
   "execution_count": 212,
   "id": "37f7969e",
   "metadata": {},
   "outputs": [
    {
     "data": {
      "text/plain": [
       "4224"
      ]
     },
     "execution_count": 212,
     "metadata": {},
     "output_type": "execute_result"
    }
   ],
   "source": [
    "# Display the unique values\n",
    "unique_descriptions.count()"
   ]
  },
  {
   "cell_type": "code",
   "execution_count": 215,
   "id": "5efa0153",
   "metadata": {},
   "outputs": [],
   "source": [
    "# Saving unique_descriptions data for the analysis phase with LLM\n",
    "unique_descriptions.coalesce(1).write.format(\"com.databricks.spark.csv\").option(\"header\", \"true\").save(\"unique_descriptions.csv\")"
   ]
  },
  {
   "cell_type": "code",
   "execution_count": null,
   "id": "da23f58f",
   "metadata": {},
   "outputs": [],
   "source": [
    "# DESCRIPTION\n",
    "# Additional adjustment codes to remove\n",
    "descrip = [\"check\", \"check?\", \"?\", \"??\", \"damaged\", \"found\", \"adjustment\", \"Amazon\", \"AMAZON\", \"amazon adjust\",\n",
    "         \"Amazon Adjustment\", \"amazon sales\", \"Found\", \"FOUND\", \"found box\", \"Found by jackie \", \"Found in w/hse\",\n",
    "         \"dotcom\", \"dotcom adjust\", \"allocate stock for dotcom orders ta\", \"FBA\",\n",
    "         \"Dotcomgiftshop Gift Voucher £100.00\", \"on cargo order\", \"wrongly sold (22719) barcode\",\n",
    "         \"wrongly marked 23343\", \"dotcomstock\", \"rcvd be air temp fix for dotcom sit\", \"Manual\",\n",
    "         \"John Lewis\", \"had been put aside\", \"for online retail orders\", \"taig adjust\", \"amazon\",\n",
    "         \"incorrectly credited C550456 see 47\", \"returned\", \"wrongly coded 20713\", \"came coded as 20713\",\n",
    "         \"add stock to allocate online orders\", \"Adjust bad debt\", \"alan hodge cant mamage this section\",\n",
    "         \"website fixed\", \"did  a credit  and did not tick ret\", \"michel oops\", \"incorrectly credited C550456 see 47\",\n",
    "         \"mailout\", \"test\", \"Sale error\", \"Lighthouse Trading zero invc incorr\", \"SAMPLES\", \"Marked as 23343\",\n",
    "         \"wrongly coded 23343\", \"Adjustment\", \"rcvd be air temp fix for dotcom sit\", \"Had been put aside.\"]\n",
    "\n",
    "# Filtering out the unwanted entries\n",
    "Store_Retail = Store_Retail.filter(~Store_Retail.Description.isin(descrip))\n"
   ]
  },
  {
   "cell_type": "code",
   "execution_count": 169,
   "id": "73c74504",
   "metadata": {},
   "outputs": [
    {
     "name": "stdout",
     "output_type": "stream",
     "text": [
      "+------------+--------------------+-----+\n",
      "|   StockCode|         Description|count|\n",
      "+------------+--------------------+-----+\n",
      "|        POST|             POSTAGE| 1252|\n",
      "|         DOT|      DOTCOM POSTAGE|  709|\n",
      "|          C2|            CARRIAGE|  143|\n",
      "|BANK CHARGES|        Bank Charges|   37|\n",
      "|   AMAZONFEE|          AMAZON FEE|   34|\n",
      "|   DCGSSGIRL|     GIRLS PARTY BAG|   13|\n",
      "|    DCGSSBOY|      BOYS PARTY BAG|   11|\n",
      "|gift_0001_20|Dotcomgiftshop Gi...|    9|\n",
      "|gift_0001_10|Dotcomgiftshop Gi...|    8|\n",
      "|gift_0001_30|Dotcomgiftshop Gi...|    7|\n",
      "|        PADS|PADS TO MATCH ALL...|    4|\n",
      "|        POST|                null|    4|\n",
      "|gift_0001_50|Dotcomgiftshop Gi...|    4|\n",
      "|gift_0001_40|Dotcomgiftshop Gi...|    3|\n",
      "|         DOT|                null|    1|\n",
      "|gift_0001_20|to push order thr...|    1|\n",
      "|gift_0001_10|                null|    1|\n",
      "|gift_0001_30|                null|    1|\n",
      "|          C2|                null|    1|\n",
      "+------------+--------------------+-----+\n",
      "\n"
     ]
    }
   ],
   "source": [
    "# Define non-product related codes\n",
    "Non_P_StockCode =['AMAZONFEE', 'BANK CHARGES', 'C2', 'DCGSSBOY', \n",
    "                  'DCGSSGIRL', 'DOT', 'gift_0001_', 'PADS', 'POST']\n",
    "\n",
    "# Summary of non-product stockcodes using SQL\n",
    "non_product_stockcodes = spark.sql(f\"\"\"\n",
    "    SELECT StockCode, Description, COUNT(*) AS count\n",
    "    FROM retail_view\n",
    "    WHERE StockCode REGEXP '{'|'.join(Non_P_StockCode)}'\n",
    "    GROUP BY StockCode, Description\n",
    "\"\"\").alias(\"count\")\n",
    "\n",
    "non_product_stockcodes.orderBy(non_product_stockcodes[\"count\"].desc()).show()"
   ]
  },
  {
   "cell_type": "code",
   "execution_count": 170,
   "id": "296db1c0",
   "metadata": {},
   "outputs": [],
   "source": [
    "# Remove non-product stockcodes using SQL\n",
    "# Register retail_df as a temporary view\n",
    "Store_Retail.createOrReplaceTempView(\"retail_view\")\n",
    "Store_Retail = spark.sql(f\"\"\"\n",
    "    SELECT *\n",
    "    FROM retail_view\n",
    "    WHERE NOT StockCode REGEXP '{'|'.join(Non_P_StockCode)}'\n",
    "\"\"\")\n"
   ]
  },
  {
   "cell_type": "markdown",
   "id": "a97b26f6",
   "metadata": {},
   "source": [
    "#=========================================================================================================="
   ]
  },
  {
   "cell_type": "code",
   "execution_count": 175,
   "id": "a9fed523",
   "metadata": {},
   "outputs": [],
   "source": [
    "\n",
    "# Check for NA values in Description\n",
    "Store_Retail.filter(Store_Retail.Description.isNull()).count()\n",
    "\n",
    "# Remove rows with NA values in Description\n",
    "Store_Retail = Store_Retail.filter(Store_Retail.Description.isNotNull())\n"
   ]
  },
  {
   "cell_type": "code",
   "execution_count": 176,
   "id": "bd57db54",
   "metadata": {},
   "outputs": [],
   "source": [
    "# Filtering by an order number which contains the same stock code more than once\n",
    "Store_Retail = spark.sql(\"\"\"\n",
    "    SELECT InvoiceNo, StockCode, Quantity, UnitPrice, CustomerID\n",
    "    FROM retail_view\n",
    "    WHERE InvoiceNo = '557886' AND StockCode = '22436'\n",
    "\"\"\")\n"
   ]
  },
  {
   "cell_type": "code",
   "execution_count": 177,
   "id": "8e28e65c",
   "metadata": {},
   "outputs": [],
   "source": [
    "# Removing duplicates\n",
    "Store_Retail = spark.sql(\"\"\"\n",
    "    SELECT *\n",
    "    FROM (\n",
    "        SELECT *,\n",
    "            ROW_NUMBER() OVER (PARTITION BY InvoiceNo, Description ORDER BY InvoiceNo) as row_number\n",
    "        FROM retail_view\n",
    "    ) tmp\n",
    "    WHERE row_number = 1\n",
    "\"\"\").drop(\"row_number\")\n"
   ]
  },
  {
   "cell_type": "code",
   "execution_count": 178,
   "id": "2529878b",
   "metadata": {},
   "outputs": [
    {
     "name": "stdout",
     "output_type": "stream",
     "text": [
      "Total row count: 520566\n"
     ]
    }
   ],
   "source": [
    "row_count = Store_Retail.count()\n",
    "print(\"Total row count:\", row_count)"
   ]
  },
  {
   "cell_type": "code",
   "execution_count": 179,
   "id": "7a003c3c",
   "metadata": {},
   "outputs": [
    {
     "name": "stdout",
     "output_type": "stream",
     "text": [
      "+-------+------------------+\n",
      "|summary|        CustomerID|\n",
      "+-------+------------------+\n",
      "|  count|            387772|\n",
      "|   mean|15282.001227525454|\n",
      "| stddev|1713.8704314594274|\n",
      "|    min|             12346|\n",
      "|    25%|             13941|\n",
      "|    50%|             15144|\n",
      "|    75%|             16788|\n",
      "|    max|             18287|\n",
      "+-------+------------------+\n",
      "\n"
     ]
    }
   ],
   "source": [
    "# CUSTOMER ID\n",
    "# Check for NA values in CustomerID\n",
    "Store_Retail.select(\"CustomerID\").summary().show()"
   ]
  },
  {
   "cell_type": "code",
   "execution_count": 180,
   "id": "17bd669e",
   "metadata": {},
   "outputs": [
    {
     "name": "stdout",
     "output_type": "stream",
     "text": [
      "+---------------+----------------+\n",
      "|UniqueInvoiceNo|UniqueCustomerID|\n",
      "+---------------+----------------+\n",
      "|          20728|            4339|\n",
      "+---------------+----------------+\n",
      "\n"
     ]
    }
   ],
   "source": [
    "from pyspark.sql.functions import count, countDistinct\n",
    "\n",
    "# Count unique values of InvoiceNo and CustomerID\n",
    "Store_Retail.select(countDistinct(\"InvoiceNo\").alias(\"UniqueInvoiceNo\"), countDistinct(\"CustomerID\").alias(\"UniqueCustomerID\")).show()\n"
   ]
  },
  {
   "cell_type": "code",
   "execution_count": 181,
   "id": "5ad08285",
   "metadata": {},
   "outputs": [
    {
     "name": "stdout",
     "output_type": "stream",
     "text": [
      "+---------+---------+--------------------+--------+--------------+---------+----------+--------------+----+----+\n",
      "|InvoiceNo|StockCode|         Description|Quantity|   InvoiceDate|UnitPrice|CustomerID|       Country|Date|Time|\n",
      "+---------+---------+--------------------+--------+--------------+---------+----------+--------------+----+----+\n",
      "| 536370.0|    22661|CHARLOTTE BAG DOL...|      20|12/1/2010 8:45|     0.85|     12583|        France|null|null|\n",
      "| 536370.0|    22659|LUNCH BOX I LOVE ...|      24|12/1/2010 8:45|     1.95|     12583|        France|null|null|\n",
      "| 536373.0|    21730|GLASS STAR FROSTE...|       6|12/1/2010 9:02|     4.25|     17850|United Kingdom|null|null|\n",
      "| 536373.0|   82494L|WOODEN FRAME ANTI...|       6|12/1/2010 9:02|     2.55|     17850|United Kingdom|null|null|\n",
      "| 536375.0|    21871| SAVE THE PLANET MUG|       6|12/1/2010 9:32|     1.06|     17850|United Kingdom|null|null|\n",
      "+---------+---------+--------------------+--------+--------------+---------+----------+--------------+----+----+\n",
      "only showing top 5 rows\n",
      "\n"
     ]
    }
   ],
   "source": [
    "# FINAL TOUCHES\n",
    "# Perform final transformations\n",
    "from pyspark.sql.functions import col, to_date, to_timestamp\n",
    "\n",
    "Store_Retail = Store_Retail.withColumn(\"Description\", col(\"Description\").cast(\"string\")) \\\n",
    "    .withColumn(\"Country\", col(\"Country\").cast(\"string\")) \\\n",
    "    .withColumn(\"InvoiceNo\", col(\"InvoiceNo\").cast(\"double\")) \\\n",
    "    .withColumn(\"Date\", to_date(\"InvoiceDate\")) \\\n",
    "    .withColumn(\"Time\", to_timestamp(\"InvoiceDate\", \"HH:mm:ss\").cast(\"string\"))\n",
    "\n",
    "Store_Retail.show(5)"
   ]
  },
  {
   "cell_type": "code",
   "execution_count": 182,
   "id": "bea6919e",
   "metadata": {},
   "outputs": [],
   "source": [
    "# Saving cleansed data for the analysis phase\n",
    "Store_Retail.coalesce(1).write.format(\"com.databricks.spark.csv\").option(\"header\", \"true\").save(\"CleanRetailData1.csv\")"
   ]
  },
  {
   "cell_type": "markdown",
   "id": "54ed40e1",
   "metadata": {},
   "source": [
    "# Exploratory data analysis"
   ]
  },
  {
   "cell_type": "code",
   "execution_count": 183,
   "id": "41d8412e",
   "metadata": {},
   "outputs": [
    {
     "name": "stdout",
     "output_type": "stream",
     "text": [
      "+--------------------+-----+\n",
      "|         Description|count|\n",
      "+--------------------+-----+\n",
      "|WHITE HANGING HEA...| 2260|\n",
      "|JUMBO BAG RED RET...| 2092|\n",
      "|REGENCY CAKESTAND...| 1989|\n",
      "|       PARTY BUNTING| 1686|\n",
      "|LUNCH BAG RED RET...| 1564|\n",
      "|ASSORTED COLOUR B...| 1455|\n",
      "|SET OF 3 CAKE TIN...| 1385|\n",
      "|PACK OF 72 RETROS...| 1320|\n",
      "|LUNCH BAG  BLACK ...| 1273|\n",
      "|NATURAL SLATE HEA...| 1249|\n",
      "+--------------------+-----+\n",
      "\n"
     ]
    }
   ],
   "source": [
    "from pyspark.sql.functions import hour, weekofyear\n",
    "import matplotlib.pyplot as plt\n",
    "import seaborn as sns\n",
    "\n",
    "df = Store_Retail\n",
    "# What items do people buy more often?\n",
    "top_sellers = df.groupBy(\"Description\").count().orderBy(\"count\", ascending=False).limit(10)\n",
    "top_sellers.show()"
   ]
  },
  {
   "cell_type": "code",
   "execution_count": 184,
   "id": "c70cd268",
   "metadata": {},
   "outputs": [
    {
     "data": {
      "image/png": "[encoded data removed]",
      "text/plain": [
       "<Figure size 640x480 with 1 Axes>"
      ]
     },
     "metadata": {},
     "output_type": "display_data"
    }
   ],
   "source": [
    "# Plotting the top sellers\n",
    "top_sellers_df = top_sellers.toPandas()\n",
    "sns.barplot(data=top_sellers_df, x=\"count\", y=\"Description\")\n",
    "plt.xlabel(\"Top 10 Best Sellers\")\n",
    "plt.ylabel(\"\")\n",
    "plt.title(\"Most Ordered Products\")\n",
    "plt.show()\n"
   ]
  },
  {
   "cell_type": "code",
   "execution_count": 185,
   "id": "c8f367b2",
   "metadata": {},
   "outputs": [
    {
     "name": "stdout",
     "output_type": "stream",
     "text": [
      "+---------+-----------------+\n",
      "|InvoiceNo|    avg(Quantity)|\n",
      "+---------+-----------------+\n",
      "| 536623.0|           13.875|\n",
      "| 537849.0|             60.0|\n",
      "| 538279.0|67.42857142857143|\n",
      "| 539334.0|              1.0|\n",
      "| 540642.0|             12.7|\n",
      "+---------+-----------------+\n",
      "only showing top 5 rows\n",
      "\n"
     ]
    }
   ],
   "source": [
    "# How many items does each customer buy?\n",
    "average_items_per_order = df.groupBy(\"InvoiceNo\").avg(\"Quantity\")\n",
    "average_items_per_order.show(5)"
   ]
  },
  {
   "cell_type": "code",
   "execution_count": 186,
   "id": "2e170afd",
   "metadata": {},
   "outputs": [
    {
     "name": "stdout",
     "output_type": "stream",
     "text": [
      "+---------+------------------+\n",
      "|InvoiceNo|        avg(Value)|\n",
      "+---------+------------------+\n",
      "| 536623.0| 16.00791666666667|\n",
      "| 537849.0|              75.0|\n",
      "| 538279.0| 98.02285714285713|\n",
      "| 539334.0|2.5949999999999998|\n",
      "| 540642.0|24.761200000000002|\n",
      "+---------+------------------+\n",
      "only showing top 5 rows\n",
      "\n"
     ]
    }
   ],
   "source": [
    "# What is the average value per order?\n",
    "df.withColumn(\"Value\", df[\"UnitPrice\"] * df[\"Quantity\"]).groupBy(\"InvoiceNo\").avg(\"Value\").show(5)"
   ]
  },
  {
   "cell_type": "code",
   "execution_count": 187,
   "id": "10fbeb53",
   "metadata": {},
   "outputs": [
    {
     "name": "stdout",
     "output_type": "stream",
     "text": [
      "+--------------+-------------+\n",
      "|       Country|sum(Quantity)|\n",
      "+--------------+-------------+\n",
      "|United Kingdom|      4692510|\n",
      "|   Netherlands|       200937|\n",
      "|          EIRE|       147252|\n",
      "|       Germany|       119119|\n",
      "|        France|       111918|\n",
      "+--------------+-------------+\n",
      "only showing top 5 rows\n",
      "\n"
     ]
    }
   ],
   "source": [
    "# Which countries do they sell their goods to?\n",
    "country_sales = df.groupBy(\"Country\").sum(\"Quantity\")\n",
    "country_sales = country_sales.orderBy(country_sales[\"sum(Quantity)\"].desc())\n",
    "country_sales.show(5)"
   ]
  },
  {
   "cell_type": "code",
   "execution_count": 188,
   "id": "b8bb4fb8",
   "metadata": {},
   "outputs": [
    {
     "data": {
      "image/png": "[encoded data removed]",
      "text/plain": [
       "<Figure size 640x480 with 1 Axes>"
      ]
     },
     "metadata": {},
     "output_type": "display_data"
    }
   ],
   "source": [
    "country_sales_df = country_sales.toPandas()\n",
    "sns.barplot(data=country_sales_df, x=\"sum(Quantity)\", y=\"Country\", alpha=0.8)\n",
    "plt.xlabel(\"Quantity\")\n",
    "plt.ylabel(\"Country\")\n",
    "plt.title(\"country sales\")\n",
    "plt.show()"
   ]
  }
 ],
 "metadata": {
  "kernelspec": {
   "display_name": "Python 3 (ipykernel)",
   "language": "python",
   "name": "python3"
  },
  "language_info": {
   "codemirror_mode": {
    "name": "ipython",
    "version": 3
   },
   "file_extension": ".py",
   "mimetype": "text/x-python",
   "name": "python",
   "nbconvert_exporter": "python",
   "pygments_lexer": "ipython3",
   "version": "3.10.9"
  }
 },
 "nbformat": 4,
 "nbformat_minor": 5
}
